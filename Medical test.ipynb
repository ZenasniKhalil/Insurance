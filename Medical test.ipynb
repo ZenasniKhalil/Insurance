{
 "cells": [
  {
   "cell_type": "code",
   "execution_count": 1,
   "id": "1fa639b6",
   "metadata": {},
   "outputs": [],
   "source": [
    "import pandas as pd\n",
    "import matplotlib.pyplot as plt\n",
    "import numpy as np\n",
    "import seaborn as sns"
   ]
  },
  {
   "cell_type": "code",
   "execution_count": 2,
   "id": "c28d4b06",
   "metadata": {},
   "outputs": [
    {
     "data": {
      "text/html": [
       "<div>\n",
       "<style scoped>\n",
       "    .dataframe tbody tr th:only-of-type {\n",
       "        vertical-align: middle;\n",
       "    }\n",
       "\n",
       "    .dataframe tbody tr th {\n",
       "        vertical-align: top;\n",
       "    }\n",
       "\n",
       "    .dataframe thead th {\n",
       "        text-align: right;\n",
       "    }\n",
       "</style>\n",
       "<table border=\"1\" class=\"dataframe\">\n",
       "  <thead>\n",
       "    <tr style=\"text-align: right;\">\n",
       "      <th></th>\n",
       "      <th>age</th>\n",
       "      <th>sex</th>\n",
       "      <th>bmi</th>\n",
       "      <th>children</th>\n",
       "      <th>smoker</th>\n",
       "      <th>region</th>\n",
       "      <th>charges</th>\n",
       "    </tr>\n",
       "  </thead>\n",
       "  <tbody>\n",
       "    <tr>\n",
       "      <th>0</th>\n",
       "      <td>19</td>\n",
       "      <td>female</td>\n",
       "      <td>27.900</td>\n",
       "      <td>0</td>\n",
       "      <td>yes</td>\n",
       "      <td>southwest</td>\n",
       "      <td>16884.92400</td>\n",
       "    </tr>\n",
       "    <tr>\n",
       "      <th>1</th>\n",
       "      <td>18</td>\n",
       "      <td>male</td>\n",
       "      <td>33.770</td>\n",
       "      <td>1</td>\n",
       "      <td>no</td>\n",
       "      <td>southeast</td>\n",
       "      <td>1725.55230</td>\n",
       "    </tr>\n",
       "    <tr>\n",
       "      <th>2</th>\n",
       "      <td>28</td>\n",
       "      <td>male</td>\n",
       "      <td>33.000</td>\n",
       "      <td>3</td>\n",
       "      <td>no</td>\n",
       "      <td>southeast</td>\n",
       "      <td>4449.46200</td>\n",
       "    </tr>\n",
       "    <tr>\n",
       "      <th>3</th>\n",
       "      <td>33</td>\n",
       "      <td>male</td>\n",
       "      <td>22.705</td>\n",
       "      <td>0</td>\n",
       "      <td>no</td>\n",
       "      <td>northwest</td>\n",
       "      <td>21984.47061</td>\n",
       "    </tr>\n",
       "    <tr>\n",
       "      <th>4</th>\n",
       "      <td>32</td>\n",
       "      <td>male</td>\n",
       "      <td>28.880</td>\n",
       "      <td>0</td>\n",
       "      <td>no</td>\n",
       "      <td>northwest</td>\n",
       "      <td>3866.85520</td>\n",
       "    </tr>\n",
       "  </tbody>\n",
       "</table>\n",
       "</div>"
      ],
      "text/plain": [
       "   age     sex     bmi  children smoker     region      charges\n",
       "0   19  female  27.900         0    yes  southwest  16884.92400\n",
       "1   18    male  33.770         1     no  southeast   1725.55230\n",
       "2   28    male  33.000         3     no  southeast   4449.46200\n",
       "3   33    male  22.705         0     no  northwest  21984.47061\n",
       "4   32    male  28.880         0     no  northwest   3866.85520"
      ]
     },
     "execution_count": 2,
     "metadata": {},
     "output_type": "execute_result"
    }
   ],
   "source": [
    "data = pd.read_csv('insurance.csv')\n",
    "data.head()"
   ]
  },
  {
   "cell_type": "code",
   "execution_count": 3,
   "id": "2ed9c675",
   "metadata": {
    "scrolled": true
   },
   "outputs": [
    {
     "data": {
      "text/html": [
       "<div>\n",
       "<style scoped>\n",
       "    .dataframe tbody tr th:only-of-type {\n",
       "        vertical-align: middle;\n",
       "    }\n",
       "\n",
       "    .dataframe tbody tr th {\n",
       "        vertical-align: top;\n",
       "    }\n",
       "\n",
       "    .dataframe thead th {\n",
       "        text-align: right;\n",
       "    }\n",
       "</style>\n",
       "<table border=\"1\" class=\"dataframe\">\n",
       "  <thead>\n",
       "    <tr style=\"text-align: right;\">\n",
       "      <th></th>\n",
       "      <th>age</th>\n",
       "      <th>bmi</th>\n",
       "      <th>children</th>\n",
       "      <th>charges</th>\n",
       "    </tr>\n",
       "  </thead>\n",
       "  <tbody>\n",
       "    <tr>\n",
       "      <th>count</th>\n",
       "      <td>1338.000000</td>\n",
       "      <td>1338.000000</td>\n",
       "      <td>1338.000000</td>\n",
       "      <td>1338.000000</td>\n",
       "    </tr>\n",
       "    <tr>\n",
       "      <th>mean</th>\n",
       "      <td>39.207025</td>\n",
       "      <td>30.663397</td>\n",
       "      <td>1.094918</td>\n",
       "      <td>13270.422265</td>\n",
       "    </tr>\n",
       "    <tr>\n",
       "      <th>std</th>\n",
       "      <td>14.049960</td>\n",
       "      <td>6.098187</td>\n",
       "      <td>1.205493</td>\n",
       "      <td>12110.011237</td>\n",
       "    </tr>\n",
       "    <tr>\n",
       "      <th>min</th>\n",
       "      <td>18.000000</td>\n",
       "      <td>15.960000</td>\n",
       "      <td>0.000000</td>\n",
       "      <td>1121.873900</td>\n",
       "    </tr>\n",
       "    <tr>\n",
       "      <th>25%</th>\n",
       "      <td>27.000000</td>\n",
       "      <td>26.296250</td>\n",
       "      <td>0.000000</td>\n",
       "      <td>4740.287150</td>\n",
       "    </tr>\n",
       "    <tr>\n",
       "      <th>50%</th>\n",
       "      <td>39.000000</td>\n",
       "      <td>30.400000</td>\n",
       "      <td>1.000000</td>\n",
       "      <td>9382.033000</td>\n",
       "    </tr>\n",
       "    <tr>\n",
       "      <th>75%</th>\n",
       "      <td>51.000000</td>\n",
       "      <td>34.693750</td>\n",
       "      <td>2.000000</td>\n",
       "      <td>16639.912515</td>\n",
       "    </tr>\n",
       "    <tr>\n",
       "      <th>max</th>\n",
       "      <td>64.000000</td>\n",
       "      <td>53.130000</td>\n",
       "      <td>5.000000</td>\n",
       "      <td>63770.428010</td>\n",
       "    </tr>\n",
       "  </tbody>\n",
       "</table>\n",
       "</div>"
      ],
      "text/plain": [
       "               age          bmi     children       charges\n",
       "count  1338.000000  1338.000000  1338.000000   1338.000000\n",
       "mean     39.207025    30.663397     1.094918  13270.422265\n",
       "std      14.049960     6.098187     1.205493  12110.011237\n",
       "min      18.000000    15.960000     0.000000   1121.873900\n",
       "25%      27.000000    26.296250     0.000000   4740.287150\n",
       "50%      39.000000    30.400000     1.000000   9382.033000\n",
       "75%      51.000000    34.693750     2.000000  16639.912515\n",
       "max      64.000000    53.130000     5.000000  63770.428010"
      ]
     },
     "execution_count": 3,
     "metadata": {},
     "output_type": "execute_result"
    }
   ],
   "source": [
    "data.describe()"
   ]
  },
  {
   "cell_type": "code",
   "execution_count": 4,
   "id": "95b08cb8",
   "metadata": {},
   "outputs": [],
   "source": [
    "from sklearn.preprocessing import LabelEncoder\n",
    "#sex\n",
    "le = LabelEncoder()\n",
    "le.fit(data.sex.drop_duplicates()) \n",
    "data.sex = le.transform(data.sex)\n",
    "# smoker or not\n",
    "le.fit(data.smoker.drop_duplicates()) \n",
    "data.smoker = le.transform(data.smoker)\n",
    "#region\n",
    "le.fit(data.region.drop_duplicates()) \n",
    "data.region = le.transform(data.region)"
   ]
  },
  {
   "cell_type": "code",
   "execution_count": 5,
   "id": "1bf55735",
   "metadata": {
    "scrolled": false
   },
   "outputs": [
    {
     "data": {
      "text/html": [
       "<div>\n",
       "<style scoped>\n",
       "    .dataframe tbody tr th:only-of-type {\n",
       "        vertical-align: middle;\n",
       "    }\n",
       "\n",
       "    .dataframe tbody tr th {\n",
       "        vertical-align: top;\n",
       "    }\n",
       "\n",
       "    .dataframe thead th {\n",
       "        text-align: right;\n",
       "    }\n",
       "</style>\n",
       "<table border=\"1\" class=\"dataframe\">\n",
       "  <thead>\n",
       "    <tr style=\"text-align: right;\">\n",
       "      <th></th>\n",
       "      <th>age</th>\n",
       "      <th>sex</th>\n",
       "      <th>bmi</th>\n",
       "      <th>children</th>\n",
       "      <th>smoker</th>\n",
       "      <th>region</th>\n",
       "      <th>charges</th>\n",
       "    </tr>\n",
       "  </thead>\n",
       "  <tbody>\n",
       "    <tr>\n",
       "      <th>0</th>\n",
       "      <td>19</td>\n",
       "      <td>0</td>\n",
       "      <td>27.900</td>\n",
       "      <td>0</td>\n",
       "      <td>1</td>\n",
       "      <td>3</td>\n",
       "      <td>16884.92400</td>\n",
       "    </tr>\n",
       "    <tr>\n",
       "      <th>1</th>\n",
       "      <td>18</td>\n",
       "      <td>1</td>\n",
       "      <td>33.770</td>\n",
       "      <td>1</td>\n",
       "      <td>0</td>\n",
       "      <td>2</td>\n",
       "      <td>1725.55230</td>\n",
       "    </tr>\n",
       "    <tr>\n",
       "      <th>2</th>\n",
       "      <td>28</td>\n",
       "      <td>1</td>\n",
       "      <td>33.000</td>\n",
       "      <td>3</td>\n",
       "      <td>0</td>\n",
       "      <td>2</td>\n",
       "      <td>4449.46200</td>\n",
       "    </tr>\n",
       "    <tr>\n",
       "      <th>3</th>\n",
       "      <td>33</td>\n",
       "      <td>1</td>\n",
       "      <td>22.705</td>\n",
       "      <td>0</td>\n",
       "      <td>0</td>\n",
       "      <td>1</td>\n",
       "      <td>21984.47061</td>\n",
       "    </tr>\n",
       "    <tr>\n",
       "      <th>4</th>\n",
       "      <td>32</td>\n",
       "      <td>1</td>\n",
       "      <td>28.880</td>\n",
       "      <td>0</td>\n",
       "      <td>0</td>\n",
       "      <td>1</td>\n",
       "      <td>3866.85520</td>\n",
       "    </tr>\n",
       "  </tbody>\n",
       "</table>\n",
       "</div>"
      ],
      "text/plain": [
       "   age  sex     bmi  children  smoker  region      charges\n",
       "0   19    0  27.900         0       1       3  16884.92400\n",
       "1   18    1  33.770         1       0       2   1725.55230\n",
       "2   28    1  33.000         3       0       2   4449.46200\n",
       "3   33    1  22.705         0       0       1  21984.47061\n",
       "4   32    1  28.880         0       0       1   3866.85520"
      ]
     },
     "execution_count": 5,
     "metadata": {},
     "output_type": "execute_result"
    }
   ],
   "source": [
    "data.head()"
   ]
  },
  {
   "cell_type": "code",
   "execution_count": 6,
   "id": "7b245c53",
   "metadata": {},
   "outputs": [],
   "source": [
    "train_or = data.iloc[:900,:]\n",
    "test = data.iloc[900:,:]"
   ]
  },
  {
   "cell_type": "markdown",
   "id": "b8471a2b",
   "metadata": {},
   "source": [
    "## Data rescaling"
   ]
  },
  {
   "cell_type": "code",
   "execution_count": 7,
   "id": "0e61af95",
   "metadata": {},
   "outputs": [],
   "source": [
    "train = (train_or - train_or.mean()) / train_or.std()\n",
    "test = (test - test.mean()) / test.std()"
   ]
  },
  {
   "cell_type": "code",
   "execution_count": 8,
   "id": "9128c258",
   "metadata": {},
   "outputs": [
    {
     "name": "stderr",
     "output_type": "stream",
     "text": [
      "/home/lilou/anaconda3/lib/python3.8/site-packages/seaborn/distributions.py:2557: FutureWarning: `distplot` is a deprecated function and will be removed in a future version. Please adapt your code to use either `displot` (a figure-level function with similar flexibility) or `histplot` (an axes-level function for histograms).\n",
      "  warnings.warn(msg, FutureWarning)\n",
      "/home/lilou/anaconda3/lib/python3.8/site-packages/seaborn/distributions.py:2557: FutureWarning: `distplot` is a deprecated function and will be removed in a future version. Please adapt your code to use either `displot` (a figure-level function with similar flexibility) or `histplot` (an axes-level function for histograms).\n",
      "  warnings.warn(msg, FutureWarning)\n"
     ]
    },
    {
     "data": {
      "text/plain": [
       "Text(0.5, 1.0, 'Scaled data')"
      ]
     },
     "execution_count": 8,
     "metadata": {},
     "output_type": "execute_result"
    },
    {
     "data": {
      "image/png": "[encoded data removed]",
      "text/plain": [
       "<Figure size 432x288 with 2 Axes>"
      ]
     },
     "metadata": {
      "needs_background": "light"
     },
     "output_type": "display_data"
    }
   ],
   "source": [
    "\n",
    "fig, ax=plt.subplots(1,2)\n",
    "sns.distplot(train_or, ax=ax[0])\n",
    "ax[0].set_title(\"Original Data\")\n",
    "sns.distplot(train, ax=ax[1])\n",
    "ax[1].set_title(\"Scaled data\")"
   ]
  },
  {
   "cell_type": "code",
   "execution_count": 9,
   "id": "b76a7697",
   "metadata": {},
   "outputs": [
    {
     "data": {
      "text/html": [
       "<div>\n",
       "<style scoped>\n",
       "    .dataframe tbody tr th:only-of-type {\n",
       "        vertical-align: middle;\n",
       "    }\n",
       "\n",
       "    .dataframe tbody tr th {\n",
       "        vertical-align: top;\n",
       "    }\n",
       "\n",
       "    .dataframe thead th {\n",
       "        text-align: right;\n",
       "    }\n",
       "</style>\n",
       "<table border=\"1\" class=\"dataframe\">\n",
       "  <thead>\n",
       "    <tr style=\"text-align: right;\">\n",
       "      <th></th>\n",
       "      <th>age</th>\n",
       "      <th>sex</th>\n",
       "      <th>bmi</th>\n",
       "      <th>children</th>\n",
       "      <th>smoker</th>\n",
       "      <th>region</th>\n",
       "      <th>charges</th>\n",
       "    </tr>\n",
       "  </thead>\n",
       "  <tbody>\n",
       "    <tr>\n",
       "      <th>0</th>\n",
       "      <td>-1.445241</td>\n",
       "      <td>-1.001668</td>\n",
       "      <td>-0.500641</td>\n",
       "      <td>-0.896894</td>\n",
       "      <td>2.005856</td>\n",
       "      <td>1.340523</td>\n",
       "      <td>0.306786</td>\n",
       "    </tr>\n",
       "    <tr>\n",
       "      <th>1</th>\n",
       "      <td>-1.515316</td>\n",
       "      <td>0.997226</td>\n",
       "      <td>0.474070</td>\n",
       "      <td>-0.054300</td>\n",
       "      <td>-0.497986</td>\n",
       "      <td>0.436800</td>\n",
       "      <td>-0.945475</td>\n",
       "    </tr>\n",
       "    <tr>\n",
       "      <th>2</th>\n",
       "      <td>-0.814574</td>\n",
       "      <td>0.997226</td>\n",
       "      <td>0.346212</td>\n",
       "      <td>1.630886</td>\n",
       "      <td>-0.497986</td>\n",
       "      <td>0.436800</td>\n",
       "      <td>-0.720463</td>\n",
       "    </tr>\n",
       "    <tr>\n",
       "      <th>3</th>\n",
       "      <td>-0.464203</td>\n",
       "      <td>0.997226</td>\n",
       "      <td>-1.363269</td>\n",
       "      <td>-0.896894</td>\n",
       "      <td>-0.497986</td>\n",
       "      <td>-0.466924</td>\n",
       "      <td>0.728042</td>\n",
       "    </tr>\n",
       "    <tr>\n",
       "      <th>4</th>\n",
       "      <td>-0.534277</td>\n",
       "      <td>0.997226</td>\n",
       "      <td>-0.337913</td>\n",
       "      <td>-0.896894</td>\n",
       "      <td>-0.497986</td>\n",
       "      <td>-0.466924</td>\n",
       "      <td>-0.768590</td>\n",
       "    </tr>\n",
       "  </tbody>\n",
       "</table>\n",
       "</div>"
      ],
      "text/plain": [
       "        age       sex       bmi  children    smoker    region   charges\n",
       "0 -1.445241 -1.001668 -0.500641 -0.896894  2.005856  1.340523  0.306786\n",
       "1 -1.515316  0.997226  0.474070 -0.054300 -0.497986  0.436800 -0.945475\n",
       "2 -0.814574  0.997226  0.346212  1.630886 -0.497986  0.436800 -0.720463\n",
       "3 -0.464203  0.997226 -1.363269 -0.896894 -0.497986 -0.466924  0.728042\n",
       "4 -0.534277  0.997226 -0.337913 -0.896894 -0.497986 -0.466924 -0.768590"
      ]
     },
     "execution_count": 9,
     "metadata": {},
     "output_type": "execute_result"
    }
   ],
   "source": [
    "train.head()"
   ]
  },
  {
   "cell_type": "code",
   "execution_count": 10,
   "id": "b058bcce",
   "metadata": {},
   "outputs": [
    {
     "data": {
      "text/html": [
       "<div>\n",
       "<style scoped>\n",
       "    .dataframe tbody tr th:only-of-type {\n",
       "        vertical-align: middle;\n",
       "    }\n",
       "\n",
       "    .dataframe tbody tr th {\n",
       "        vertical-align: top;\n",
       "    }\n",
       "\n",
       "    .dataframe thead th {\n",
       "        text-align: right;\n",
       "    }\n",
       "</style>\n",
       "<table border=\"1\" class=\"dataframe\">\n",
       "  <thead>\n",
       "    <tr style=\"text-align: right;\">\n",
       "      <th></th>\n",
       "      <th>age</th>\n",
       "      <th>sex</th>\n",
       "      <th>bmi</th>\n",
       "      <th>children</th>\n",
       "      <th>smoker</th>\n",
       "      <th>region</th>\n",
       "      <th>charges</th>\n",
       "    </tr>\n",
       "  </thead>\n",
       "  <tbody>\n",
       "    <tr>\n",
       "      <th>900</th>\n",
       "      <td>0.785386</td>\n",
       "      <td>0.971857</td>\n",
       "      <td>-1.225667</td>\n",
       "      <td>-0.931972</td>\n",
       "      <td>-0.525676</td>\n",
       "      <td>-1.372657</td>\n",
       "      <td>-0.394519</td>\n",
       "    </tr>\n",
       "    <tr>\n",
       "      <th>901</th>\n",
       "      <td>1.596531</td>\n",
       "      <td>0.971857</td>\n",
       "      <td>1.730338</td>\n",
       "      <td>-0.931972</td>\n",
       "      <td>1.897968</td>\n",
       "      <td>0.440989</td>\n",
       "      <td>2.901729</td>\n",
       "    </tr>\n",
       "    <tr>\n",
       "      <th>902</th>\n",
       "      <td>-0.910644</td>\n",
       "      <td>0.971857</td>\n",
       "      <td>-0.462775</td>\n",
       "      <td>1.483434</td>\n",
       "      <td>-0.525676</td>\n",
       "      <td>-1.372657</td>\n",
       "      <td>-0.726543</td>\n",
       "    </tr>\n",
       "    <tr>\n",
       "      <th>903</th>\n",
       "      <td>0.785386</td>\n",
       "      <td>0.971857</td>\n",
       "      <td>1.076660</td>\n",
       "      <td>-0.931972</td>\n",
       "      <td>-0.525676</td>\n",
       "      <td>0.440989</td>\n",
       "      <td>-0.440938</td>\n",
       "    </tr>\n",
       "    <tr>\n",
       "      <th>904</th>\n",
       "      <td>1.596531</td>\n",
       "      <td>-1.026609</td>\n",
       "      <td>0.795595</td>\n",
       "      <td>-0.931972</td>\n",
       "      <td>-0.525676</td>\n",
       "      <td>1.347813</td>\n",
       "      <td>-0.068418</td>\n",
       "    </tr>\n",
       "  </tbody>\n",
       "</table>\n",
       "</div>"
      ],
      "text/plain": [
       "          age       sex       bmi  children    smoker    region   charges\n",
       "900  0.785386  0.971857 -1.225667 -0.931972 -0.525676 -1.372657 -0.394519\n",
       "901  1.596531  0.971857  1.730338 -0.931972  1.897968  0.440989  2.901729\n",
       "902 -0.910644  0.971857 -0.462775  1.483434 -0.525676 -1.372657 -0.726543\n",
       "903  0.785386  0.971857  1.076660 -0.931972 -0.525676  0.440989 -0.440938\n",
       "904  1.596531 -1.026609  0.795595 -0.931972 -0.525676  1.347813 -0.068418"
      ]
     },
     "execution_count": 10,
     "metadata": {},
     "output_type": "execute_result"
    }
   ],
   "source": [
    "test.head()"
   ]
  },
  {
   "cell_type": "code",
   "execution_count": 11,
   "id": "aac06d07",
   "metadata": {
    "scrolled": false
   },
   "outputs": [
    {
     "data": {
      "text/html": [
       "<div>\n",
       "<style scoped>\n",
       "    .dataframe tbody tr th:only-of-type {\n",
       "        vertical-align: middle;\n",
       "    }\n",
       "\n",
       "    .dataframe tbody tr th {\n",
       "        vertical-align: top;\n",
       "    }\n",
       "\n",
       "    .dataframe thead th {\n",
       "        text-align: right;\n",
       "    }\n",
       "</style>\n",
       "<table border=\"1\" class=\"dataframe\">\n",
       "  <thead>\n",
       "    <tr style=\"text-align: right;\">\n",
       "      <th></th>\n",
       "      <th>ones</th>\n",
       "      <th>age</th>\n",
       "      <th>sex</th>\n",
       "      <th>bmi</th>\n",
       "      <th>children</th>\n",
       "      <th>smoker</th>\n",
       "      <th>region</th>\n",
       "      <th>charges</th>\n",
       "    </tr>\n",
       "  </thead>\n",
       "  <tbody>\n",
       "    <tr>\n",
       "      <th>0</th>\n",
       "      <td>1</td>\n",
       "      <td>-1.445241</td>\n",
       "      <td>-1.001668</td>\n",
       "      <td>-0.500641</td>\n",
       "      <td>-0.896894</td>\n",
       "      <td>2.005856</td>\n",
       "      <td>1.340523</td>\n",
       "      <td>0.306786</td>\n",
       "    </tr>\n",
       "    <tr>\n",
       "      <th>1</th>\n",
       "      <td>1</td>\n",
       "      <td>-1.515316</td>\n",
       "      <td>0.997226</td>\n",
       "      <td>0.474070</td>\n",
       "      <td>-0.054300</td>\n",
       "      <td>-0.497986</td>\n",
       "      <td>0.436800</td>\n",
       "      <td>-0.945475</td>\n",
       "    </tr>\n",
       "    <tr>\n",
       "      <th>2</th>\n",
       "      <td>1</td>\n",
       "      <td>-0.814574</td>\n",
       "      <td>0.997226</td>\n",
       "      <td>0.346212</td>\n",
       "      <td>1.630886</td>\n",
       "      <td>-0.497986</td>\n",
       "      <td>0.436800</td>\n",
       "      <td>-0.720463</td>\n",
       "    </tr>\n",
       "    <tr>\n",
       "      <th>3</th>\n",
       "      <td>1</td>\n",
       "      <td>-0.464203</td>\n",
       "      <td>0.997226</td>\n",
       "      <td>-1.363269</td>\n",
       "      <td>-0.896894</td>\n",
       "      <td>-0.497986</td>\n",
       "      <td>-0.466924</td>\n",
       "      <td>0.728042</td>\n",
       "    </tr>\n",
       "    <tr>\n",
       "      <th>4</th>\n",
       "      <td>1</td>\n",
       "      <td>-0.534277</td>\n",
       "      <td>0.997226</td>\n",
       "      <td>-0.337913</td>\n",
       "      <td>-0.896894</td>\n",
       "      <td>-0.497986</td>\n",
       "      <td>-0.466924</td>\n",
       "      <td>-0.768590</td>\n",
       "    </tr>\n",
       "  </tbody>\n",
       "</table>\n",
       "</div>"
      ],
      "text/plain": [
       "   ones       age       sex       bmi  children    smoker    region   charges\n",
       "0     1 -1.445241 -1.001668 -0.500641 -0.896894  2.005856  1.340523  0.306786\n",
       "1     1 -1.515316  0.997226  0.474070 -0.054300 -0.497986  0.436800 -0.945475\n",
       "2     1 -0.814574  0.997226  0.346212  1.630886 -0.497986  0.436800 -0.720463\n",
       "3     1 -0.464203  0.997226 -1.363269 -0.896894 -0.497986 -0.466924  0.728042\n",
       "4     1 -0.534277  0.997226 -0.337913 -0.896894 -0.497986 -0.466924 -0.768590"
      ]
     },
     "execution_count": 11,
     "metadata": {},
     "output_type": "execute_result"
    }
   ],
   "source": [
    "train.insert(0, 'ones', 1)\n",
    "train.head()"
   ]
  },
  {
   "cell_type": "code",
   "execution_count": 12,
   "id": "bcee8681",
   "metadata": {},
   "outputs": [
    {
     "data": {
      "text/html": [
       "<div>\n",
       "<style scoped>\n",
       "    .dataframe tbody tr th:only-of-type {\n",
       "        vertical-align: middle;\n",
       "    }\n",
       "\n",
       "    .dataframe tbody tr th {\n",
       "        vertical-align: top;\n",
       "    }\n",
       "\n",
       "    .dataframe thead th {\n",
       "        text-align: right;\n",
       "    }\n",
       "</style>\n",
       "<table border=\"1\" class=\"dataframe\">\n",
       "  <thead>\n",
       "    <tr style=\"text-align: right;\">\n",
       "      <th></th>\n",
       "      <th>ones</th>\n",
       "      <th>age</th>\n",
       "      <th>sex</th>\n",
       "      <th>bmi</th>\n",
       "      <th>children</th>\n",
       "      <th>smoker</th>\n",
       "      <th>region</th>\n",
       "      <th>charges</th>\n",
       "    </tr>\n",
       "  </thead>\n",
       "  <tbody>\n",
       "    <tr>\n",
       "      <th>900</th>\n",
       "      <td>1</td>\n",
       "      <td>0.785386</td>\n",
       "      <td>0.971857</td>\n",
       "      <td>-1.225667</td>\n",
       "      <td>-0.931972</td>\n",
       "      <td>-0.525676</td>\n",
       "      <td>-1.372657</td>\n",
       "      <td>-0.394519</td>\n",
       "    </tr>\n",
       "    <tr>\n",
       "      <th>901</th>\n",
       "      <td>1</td>\n",
       "      <td>1.596531</td>\n",
       "      <td>0.971857</td>\n",
       "      <td>1.730338</td>\n",
       "      <td>-0.931972</td>\n",
       "      <td>1.897968</td>\n",
       "      <td>0.440989</td>\n",
       "      <td>2.901729</td>\n",
       "    </tr>\n",
       "    <tr>\n",
       "      <th>902</th>\n",
       "      <td>1</td>\n",
       "      <td>-0.910644</td>\n",
       "      <td>0.971857</td>\n",
       "      <td>-0.462775</td>\n",
       "      <td>1.483434</td>\n",
       "      <td>-0.525676</td>\n",
       "      <td>-1.372657</td>\n",
       "      <td>-0.726543</td>\n",
       "    </tr>\n",
       "    <tr>\n",
       "      <th>903</th>\n",
       "      <td>1</td>\n",
       "      <td>0.785386</td>\n",
       "      <td>0.971857</td>\n",
       "      <td>1.076660</td>\n",
       "      <td>-0.931972</td>\n",
       "      <td>-0.525676</td>\n",
       "      <td>0.440989</td>\n",
       "      <td>-0.440938</td>\n",
       "    </tr>\n",
       "    <tr>\n",
       "      <th>904</th>\n",
       "      <td>1</td>\n",
       "      <td>1.596531</td>\n",
       "      <td>-1.026609</td>\n",
       "      <td>0.795595</td>\n",
       "      <td>-0.931972</td>\n",
       "      <td>-0.525676</td>\n",
       "      <td>1.347813</td>\n",
       "      <td>-0.068418</td>\n",
       "    </tr>\n",
       "  </tbody>\n",
       "</table>\n",
       "</div>"
      ],
      "text/plain": [
       "     ones       age       sex       bmi  children    smoker    region  \\\n",
       "900     1  0.785386  0.971857 -1.225667 -0.931972 -0.525676 -1.372657   \n",
       "901     1  1.596531  0.971857  1.730338 -0.931972  1.897968  0.440989   \n",
       "902     1 -0.910644  0.971857 -0.462775  1.483434 -0.525676 -1.372657   \n",
       "903     1  0.785386  0.971857  1.076660 -0.931972 -0.525676  0.440989   \n",
       "904     1  1.596531 -1.026609  0.795595 -0.931972 -0.525676  1.347813   \n",
       "\n",
       "      charges  \n",
       "900 -0.394519  \n",
       "901  2.901729  \n",
       "902 -0.726543  \n",
       "903 -0.440938  \n",
       "904 -0.068418  "
      ]
     },
     "execution_count": 12,
     "metadata": {},
     "output_type": "execute_result"
    }
   ],
   "source": [
    "test.insert(0, 'ones', 1)\n",
    "test.head()"
   ]
  },
  {
   "cell_type": "code",
   "execution_count": 13,
   "id": "71785e65",
   "metadata": {},
   "outputs": [],
   "source": [
    "X = train.iloc[:,:-1]\n",
    "Y = train['charges']"
   ]
  },
  {
   "cell_type": "code",
   "execution_count": 14,
   "id": "ea3dd4c4",
   "metadata": {},
   "outputs": [],
   "source": [
    "X_test_df = test.iloc[:,:-1]\n",
    "Y_test_df = test['charges']"
   ]
  },
  {
   "cell_type": "code",
   "execution_count": 15,
   "id": "ca515717",
   "metadata": {},
   "outputs": [],
   "source": [
    "X_test = np.matrix(X_test_df)"
   ]
  },
  {
   "cell_type": "code",
   "execution_count": 16,
   "id": "62086e2b",
   "metadata": {},
   "outputs": [],
   "source": [
    "X = np.matrix(X)\n",
    "Y = np.matrix(Y).T\n",
    "theta = np.matrix(np.zeros((1,7)))"
   ]
  },
  {
   "cell_type": "code",
   "execution_count": 17,
   "id": "b74d82de",
   "metadata": {},
   "outputs": [],
   "source": [
    "def computeCost(x,y,theta):\n",
    "    z = np.power(((x * theta.T)-y),2)\n",
    "    return np.sum(z) / len(x)"
   ]
  },
  {
   "cell_type": "code",
   "execution_count": 18,
   "id": "c1be636d",
   "metadata": {},
   "outputs": [
    {
     "name": "stdout",
     "output_type": "stream",
     "text": [
      "0.9988888888888895\n"
     ]
    }
   ],
   "source": [
    "print(computeCost(X,Y,theta))"
   ]
  },
  {
   "cell_type": "code",
   "execution_count": 19,
   "id": "20ebfbc1",
   "metadata": {},
   "outputs": [],
   "source": [
    "def gradientDescent(X, y, theta, alpha=0.01, iters=100):\n",
    "    temp = np.matrix(np.zeros(theta.shape))\n",
    "    parameters = int(theta.ravel().shape[1])\n",
    "    cost = np.zeros(iters)\n",
    "    \n",
    "    for i in range(iters):\n",
    "        error = (X * theta.T) - y\n",
    "        \n",
    "        for j in range(parameters):\n",
    "            term = np.multiply(error, X[:,j])\n",
    "            temp[0,j] = theta[0,j] - ((alpha / len(X)) * np.sum(term))\n",
    "            \n",
    "        theta = temp\n",
    "        cost[i] = computeCost(X, y, theta)\n",
    "        \n",
    "    return theta, cost"
   ]
  },
  {
   "cell_type": "code",
   "execution_count": 20,
   "id": "ceaa7304",
   "metadata": {},
   "outputs": [],
   "source": [
    "alpha=0.01\n",
    "iters=500\n",
    "g , cost = gradientDescent(X,Y, theta, alpha, iters)"
   ]
  },
  {
   "cell_type": "code",
   "execution_count": 21,
   "id": "bca44795",
   "metadata": {
    "scrolled": true
   },
   "outputs": [
    {
     "data": {
      "image/png": "[encoded data removed]",
      "text/plain": [
       "<Figure size 576x576 with 1 Axes>"
      ]
     },
     "metadata": {
      "needs_background": "light"
     },
     "output_type": "display_data"
    }
   ],
   "source": [
    "fig, ax = plt.subplots(figsize=(8,8))\n",
    "ax.plot(np.arange(iters), cost, 'r')\n",
    "ax.set_xlabel('Iterations')\n",
    "ax.set_ylabel('Cost')\n",
    "ax.set_title('Error vs. Training Epoch')\n",
    "plt.show()"
   ]
  },
  {
   "cell_type": "code",
   "execution_count": 22,
   "id": "55b51176",
   "metadata": {},
   "outputs": [],
   "source": [
    "#h = float(g[:,0]) + float(g[:,1]) * X_test[:,1] + float(g[:,2]) * X_test[:,2] + float(g[:,3]) * X_test[:,3] + float(g[:,4]) * X_test[:,4] + float(g[:,5]) * X_test[:,5] + float(g[:,6]) * X_test[:,6]"
   ]
  },
  {
   "cell_type": "code",
   "execution_count": 23,
   "id": "96824e1e",
   "metadata": {},
   "outputs": [],
   "source": [
    "h = np.matrix(np.zeros((X_test.shape[0],1)))\n",
    "for i in range(7):\n",
    "    h += float(g[:,i]) * X_test[:,i]"
   ]
  },
  {
   "cell_type": "code",
   "execution_count": 24,
   "id": "40d440fd",
   "metadata": {},
   "outputs": [],
   "source": [
    "h = np.array(h)\n",
    "h = pd.DataFrame(h, columns=['Predict'])"
   ]
  },
  {
   "cell_type": "code",
   "execution_count": 25,
   "id": "95720849",
   "metadata": {},
   "outputs": [
    {
     "data": {
      "text/html": [
       "<div>\n",
       "<style scoped>\n",
       "    .dataframe tbody tr th:only-of-type {\n",
       "        vertical-align: middle;\n",
       "    }\n",
       "\n",
       "    .dataframe tbody tr th {\n",
       "        vertical-align: top;\n",
       "    }\n",
       "\n",
       "    .dataframe thead th {\n",
       "        text-align: right;\n",
       "    }\n",
       "</style>\n",
       "<table border=\"1\" class=\"dataframe\">\n",
       "  <thead>\n",
       "    <tr style=\"text-align: right;\">\n",
       "      <th></th>\n",
       "      <th>Predict</th>\n",
       "    </tr>\n",
       "  </thead>\n",
       "  <tbody>\n",
       "    <tr>\n",
       "      <th>0</th>\n",
       "      <td>-0.397170</td>\n",
       "    </tr>\n",
       "    <tr>\n",
       "      <th>1</th>\n",
       "      <td>2.198114</td>\n",
       "    </tr>\n",
       "    <tr>\n",
       "      <th>2</th>\n",
       "      <td>-0.684023</td>\n",
       "    </tr>\n",
       "    <tr>\n",
       "      <th>3</th>\n",
       "      <td>-0.066377</td>\n",
       "    </tr>\n",
       "    <tr>\n",
       "      <th>4</th>\n",
       "      <td>0.142467</td>\n",
       "    </tr>\n",
       "    <tr>\n",
       "      <th>...</th>\n",
       "      <td>...</td>\n",
       "    </tr>\n",
       "    <tr>\n",
       "      <th>433</th>\n",
       "      <td>-0.077992</td>\n",
       "    </tr>\n",
       "    <tr>\n",
       "      <th>434</th>\n",
       "      <td>-0.793734</td>\n",
       "    </tr>\n",
       "    <tr>\n",
       "      <th>435</th>\n",
       "      <td>-0.716872</td>\n",
       "    </tr>\n",
       "    <tr>\n",
       "      <th>436</th>\n",
       "      <td>-0.976576</td>\n",
       "    </tr>\n",
       "    <tr>\n",
       "      <th>437</th>\n",
       "      <td>1.967957</td>\n",
       "    </tr>\n",
       "  </tbody>\n",
       "</table>\n",
       "<p>438 rows × 1 columns</p>\n",
       "</div>"
      ],
      "text/plain": [
       "      Predict\n",
       "0   -0.397170\n",
       "1    2.198114\n",
       "2   -0.684023\n",
       "3   -0.066377\n",
       "4    0.142467\n",
       "..        ...\n",
       "433 -0.077992\n",
       "434 -0.793734\n",
       "435 -0.716872\n",
       "436 -0.976576\n",
       "437  1.967957\n",
       "\n",
       "[438 rows x 1 columns]"
      ]
     },
     "execution_count": 25,
     "metadata": {},
     "output_type": "execute_result"
    }
   ],
   "source": [
    "h"
   ]
  },
  {
   "cell_type": "code",
   "execution_count": 26,
   "id": "15183cb3",
   "metadata": {},
   "outputs": [
    {
     "name": "stdout",
     "output_type": "stream",
     "text": [
      "acurracy :  72.76 %\n"
     ]
    }
   ],
   "source": [
    "from sklearn.metrics import r2_score\n",
    "score=r2_score(Y_test_df,h)\n",
    "print('acurracy : ', round((score*100),2),'%')"
   ]
  },
  {
   "cell_type": "code",
   "execution_count": 27,
   "id": "a71d75c6",
   "metadata": {},
   "outputs": [],
   "source": [
    "X = train.iloc[:,:-1]\n",
    "Y = train['charges']\n",
    "X_test_df = test.iloc[:,:-1]\n",
    "Y_test_df = test['charges']"
   ]
  },
  {
   "cell_type": "code",
   "execution_count": 28,
   "id": "342dc240",
   "metadata": {},
   "outputs": [],
   "source": [
    "X = np.array(X)\n",
    "X_test_df = np.array(X_test_df)\n",
    "Y = np.array(Y).reshape(-1,1)\n",
    "Y_test_df = np.array(Y_test_df).reshape(-1,1)"
   ]
  },
  {
   "cell_type": "code",
   "execution_count": 29,
   "id": "800406fb",
   "metadata": {},
   "outputs": [
    {
     "data": {
      "text/plain": [
       "LinearRegression()"
      ]
     },
     "execution_count": 29,
     "metadata": {},
     "output_type": "execute_result"
    }
   ],
   "source": [
    "from sklearn.linear_model import LinearRegression\n",
    "model = LinearRegression()\n",
    "model.fit(X,Y)"
   ]
  },
  {
   "cell_type": "code",
   "execution_count": 30,
   "id": "d18653fb",
   "metadata": {},
   "outputs": [],
   "source": [
    "theta0 = model.intercept_\n",
    "theta1 = model.coef_"
   ]
  },
  {
   "cell_type": "code",
   "execution_count": 31,
   "id": "1407c78d",
   "metadata": {
    "scrolled": false
   },
   "outputs": [],
   "source": [
    "Y_pred = model.predict(X_test_df)"
   ]
  },
  {
   "cell_type": "code",
   "execution_count": 32,
   "id": "3e927d3d",
   "metadata": {},
   "outputs": [
    {
     "name": "stdout",
     "output_type": "stream",
     "text": [
      "acurracy :  72.75 %\n"
     ]
    }
   ],
   "source": [
    "score=r2_score(Y_test_df,Y_pred)\n",
    "print('acurracy : ', round((score*100),2),'%')"
   ]
  },
  {
   "cell_type": "code",
   "execution_count": 33,
   "id": "454ced9d",
   "metadata": {},
   "outputs": [],
   "source": [
    "from sklearn.metrics import mean_absolute_error, mean_squared_error"
   ]
  },
  {
   "cell_type": "code",
   "execution_count": 34,
   "id": "840c51b4",
   "metadata": {
    "scrolled": true
   },
   "outputs": [
    {
     "name": "stdout",
     "output_type": "stream",
     "text": [
      "MAE :  0.3696264697260671 \n",
      " MSE :  0.271925405707037\n"
     ]
    }
   ],
   "source": [
    "print('MAE : ', mean_absolute_error(Y_test_df,Y_pred), '\\n', 'MSE : ', mean_squared_error(Y_test_df,Y_pred) )"
   ]
  },
  {
   "cell_type": "code",
   "execution_count": 35,
   "id": "666daa1c",
   "metadata": {},
   "outputs": [],
   "source": [
    "def Mean_square_error(Y_TRUE,Y_PRED):\n",
    "    m = Y_TRUE.shape[0]\n",
    "    z = np.power((Y_PRED- Y_TRUE),2)\n",
    "    return np.sum(z) / m\n",
    "def W_mean_square_error(Y_TRUE,Y_PRED):\n",
    "    m = Y_TRUE.shape[0]\n",
    "    z = np.power((Y_PRED- Y_TRUE),2)\n",
    "    return np.sum(z) / (2*m)"
   ]
  },
  {
   "cell_type": "code",
   "execution_count": 36,
   "id": "0e79da36",
   "metadata": {},
   "outputs": [
    {
     "name": "stdout",
     "output_type": "stream",
     "text": [
      "MSE :  0.271925405707037 \n",
      " WMSE :  0.1359627028535185\n"
     ]
    }
   ],
   "source": [
    "print('MSE : ', Mean_square_error(Y_test_df,Y_pred), '\\n', 'WMSE : ', W_mean_square_error(Y_test_df,Y_pred) )"
   ]
  }
 ],
 "metadata": {
  "kernelspec": {
   "display_name": "Python 3",
   "language": "python",
   "name": "python3"
  },
  "language_info": {
   "codemirror_mode": {
    "name": "ipython",
    "version": 3
   },
   "file_extension": ".py",
   "mimetype": "text/x-python",
   "name": "python",
   "nbconvert_exporter": "python",
   "pygments_lexer": "ipython3",
   "version": "3.8.8"
  }
 },
 "nbformat": 4,
 "nbformat_minor": 5
}
